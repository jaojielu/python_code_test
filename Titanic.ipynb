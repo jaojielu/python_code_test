{
 "cells": [
  {
   "cell_type": "code",
   "execution_count": 52,
   "metadata": {},
   "outputs": [],
   "source": [
    "import pandas as pd\n",
    "import numpy as np\n",
    "import os\n",
    "import seaborn as sb\n",
    "import matplotlib.pyplot as plt"
   ]
  },
  {
   "cell_type": "code",
   "execution_count": 19,
   "metadata": {},
   "outputs": [],
   "source": [
    "path='C:/Python/Titanic/'"
   ]
  },
  {
   "cell_type": "code",
   "execution_count": 20,
   "metadata": {},
   "outputs": [
    {
     "data": {
      "text/plain": [
       "'C:/Python/Titanic/training.csv'"
      ]
     },
     "execution_count": 20,
     "metadata": {},
     "output_type": "execute_result"
    }
   ],
   "source": [
    "test=os.path.join(path,'training.csv')\n",
    "test"
   ]
  },
  {
   "cell_type": "code",
   "execution_count": 22,
   "metadata": {},
   "outputs": [],
   "source": [
    "df=pd.read_csv(os.path.join(path,'train.csv'))"
   ]
  },
  {
   "cell_type": "code",
   "execution_count": 23,
   "metadata": {},
   "outputs": [
    {
     "data": {
      "text/html": [
       "<div>\n",
       "<style scoped>\n",
       "    .dataframe tbody tr th:only-of-type {\n",
       "        vertical-align: middle;\n",
       "    }\n",
       "\n",
       "    .dataframe tbody tr th {\n",
       "        vertical-align: top;\n",
       "    }\n",
       "\n",
       "    .dataframe thead th {\n",
       "        text-align: right;\n",
       "    }\n",
       "</style>\n",
       "<table border=\"1\" class=\"dataframe\">\n",
       "  <thead>\n",
       "    <tr style=\"text-align: right;\">\n",
       "      <th></th>\n",
       "      <th>PassengerId</th>\n",
       "      <th>Survived</th>\n",
       "      <th>Pclass</th>\n",
       "      <th>Name</th>\n",
       "      <th>Sex</th>\n",
       "      <th>Age</th>\n",
       "      <th>SibSp</th>\n",
       "      <th>Parch</th>\n",
       "      <th>Ticket</th>\n",
       "      <th>Fare</th>\n",
       "      <th>Cabin</th>\n",
       "      <th>Embarked</th>\n",
       "    </tr>\n",
       "  </thead>\n",
       "  <tbody>\n",
       "    <tr>\n",
       "      <th>0</th>\n",
       "      <td>1</td>\n",
       "      <td>0</td>\n",
       "      <td>3</td>\n",
       "      <td>Braund, Mr. Owen Harris</td>\n",
       "      <td>male</td>\n",
       "      <td>22.0</td>\n",
       "      <td>1</td>\n",
       "      <td>0</td>\n",
       "      <td>A/5 21171</td>\n",
       "      <td>7.2500</td>\n",
       "      <td>NaN</td>\n",
       "      <td>S</td>\n",
       "    </tr>\n",
       "    <tr>\n",
       "      <th>1</th>\n",
       "      <td>2</td>\n",
       "      <td>1</td>\n",
       "      <td>1</td>\n",
       "      <td>Cumings, Mrs. John Bradley (Florence Briggs Th...</td>\n",
       "      <td>female</td>\n",
       "      <td>38.0</td>\n",
       "      <td>1</td>\n",
       "      <td>0</td>\n",
       "      <td>PC 17599</td>\n",
       "      <td>71.2833</td>\n",
       "      <td>C85</td>\n",
       "      <td>C</td>\n",
       "    </tr>\n",
       "    <tr>\n",
       "      <th>2</th>\n",
       "      <td>3</td>\n",
       "      <td>1</td>\n",
       "      <td>3</td>\n",
       "      <td>Heikkinen, Miss. Laina</td>\n",
       "      <td>female</td>\n",
       "      <td>26.0</td>\n",
       "      <td>0</td>\n",
       "      <td>0</td>\n",
       "      <td>STON/O2. 3101282</td>\n",
       "      <td>7.9250</td>\n",
       "      <td>NaN</td>\n",
       "      <td>S</td>\n",
       "    </tr>\n",
       "    <tr>\n",
       "      <th>3</th>\n",
       "      <td>4</td>\n",
       "      <td>1</td>\n",
       "      <td>1</td>\n",
       "      <td>Futrelle, Mrs. Jacques Heath (Lily May Peel)</td>\n",
       "      <td>female</td>\n",
       "      <td>35.0</td>\n",
       "      <td>1</td>\n",
       "      <td>0</td>\n",
       "      <td>113803</td>\n",
       "      <td>53.1000</td>\n",
       "      <td>C123</td>\n",
       "      <td>S</td>\n",
       "    </tr>\n",
       "    <tr>\n",
       "      <th>4</th>\n",
       "      <td>5</td>\n",
       "      <td>0</td>\n",
       "      <td>3</td>\n",
       "      <td>Allen, Mr. William Henry</td>\n",
       "      <td>male</td>\n",
       "      <td>35.0</td>\n",
       "      <td>0</td>\n",
       "      <td>0</td>\n",
       "      <td>373450</td>\n",
       "      <td>8.0500</td>\n",
       "      <td>NaN</td>\n",
       "      <td>S</td>\n",
       "    </tr>\n",
       "  </tbody>\n",
       "</table>\n",
       "</div>"
      ],
      "text/plain": [
       "   PassengerId  Survived  Pclass  \\\n",
       "0            1         0       3   \n",
       "1            2         1       1   \n",
       "2            3         1       3   \n",
       "3            4         1       1   \n",
       "4            5         0       3   \n",
       "\n",
       "                                                Name     Sex   Age  SibSp  \\\n",
       "0                            Braund, Mr. Owen Harris    male  22.0      1   \n",
       "1  Cumings, Mrs. John Bradley (Florence Briggs Th...  female  38.0      1   \n",
       "2                             Heikkinen, Miss. Laina  female  26.0      0   \n",
       "3       Futrelle, Mrs. Jacques Heath (Lily May Peel)  female  35.0      1   \n",
       "4                           Allen, Mr. William Henry    male  35.0      0   \n",
       "\n",
       "   Parch            Ticket     Fare Cabin Embarked  \n",
       "0      0         A/5 21171   7.2500   NaN        S  \n",
       "1      0          PC 17599  71.2833   C85        C  \n",
       "2      0  STON/O2. 3101282   7.9250   NaN        S  \n",
       "3      0            113803  53.1000  C123        S  \n",
       "4      0            373450   8.0500   NaN        S  "
      ]
     },
     "execution_count": 23,
     "metadata": {},
     "output_type": "execute_result"
    }
   ],
   "source": [
    "df.head()"
   ]
  },
  {
   "cell_type": "code",
   "execution_count": 24,
   "metadata": {},
   "outputs": [
    {
     "data": {
      "text/plain": [
       "(891, 12)"
      ]
     },
     "execution_count": 24,
     "metadata": {},
     "output_type": "execute_result"
    }
   ],
   "source": [
    "df.shape"
   ]
  },
  {
   "cell_type": "code",
   "execution_count": 26,
   "metadata": {},
   "outputs": [
    {
     "data": {
      "text/plain": [
       "PassengerId      0\n",
       "Survived         0\n",
       "Pclass           0\n",
       "Name             0\n",
       "Sex              0\n",
       "Age            177\n",
       "SibSp            0\n",
       "Parch            0\n",
       "Ticket           0\n",
       "Fare             0\n",
       "Cabin          687\n",
       "Embarked         2\n",
       "dtype: int64"
      ]
     },
     "execution_count": 26,
     "metadata": {},
     "output_type": "execute_result"
    }
   ],
   "source": [
    "df.isnull().sum()"
   ]
  },
  {
   "cell_type": "code",
   "execution_count": 27,
   "metadata": {},
   "outputs": [
    {
     "data": {
      "text/plain": [
       "0    549\n",
       "1    342\n",
       "Name: Survived, dtype: int64"
      ]
     },
     "execution_count": 27,
     "metadata": {},
     "output_type": "execute_result"
    }
   ],
   "source": [
    "df.Survived.value_counts()"
   ]
  },
  {
   "cell_type": "code",
   "execution_count": 29,
   "metadata": {},
   "outputs": [
    {
     "data": {
      "text/plain": [
       "<matplotlib.axes._subplots.AxesSubplot at 0x276f3c60da0>"
      ]
     },
     "execution_count": 29,
     "metadata": {},
     "output_type": "execute_result"
    },
    {
     "data": {
      "image/png": "[encoded data removed]",
      "text/plain": [
       "<Figure size 432x288 with 1 Axes>"
      ]
     },
     "metadata": {},
     "output_type": "display_data"
    }
   ],
   "source": [
    "sb.countplot(df.Survived)"
   ]
  },
  {
   "cell_type": "code",
   "execution_count": 31,
   "metadata": {},
   "outputs": [
    {
     "data": {
      "text/plain": [
       "Sex     Survived\n",
       "female  0            81\n",
       "        1           233\n",
       "male    0           468\n",
       "        1           109\n",
       "Name: Survived, dtype: int64"
      ]
     },
     "execution_count": 31,
     "metadata": {},
     "output_type": "execute_result"
    }
   ],
   "source": [
    "df.groupby(['Sex','Survived']).Survived.count()"
   ]
  },
  {
   "cell_type": "code",
   "execution_count": 36,
   "metadata": {},
   "outputs": [
    {
     "data": {
      "text/plain": [
       "<matplotlib.axes._subplots.AxesSubplot at 0x276f401cfd0>"
      ]
     },
     "execution_count": 36,
     "metadata": {},
     "output_type": "execute_result"
    },
    {
     "data": {
      "image/png": "[encoded data removed]",
      "text/plain": [
       "<Figure size 432x288 with 1 Axes>"
      ]
     },
     "metadata": {},
     "output_type": "display_data"
    }
   ],
   "source": [
    "df[['Sex','Survived']].groupby('Sex').mean().plot.bar()\n",
    "sb.countplot('Sex',hue='Survived',data=df)"
   ]
  },
  {
   "cell_type": "code",
   "execution_count": 37,
   "metadata": {},
   "outputs": [
    {
     "data": {
      "text/plain": [
       "<matplotlib.axes._subplots.AxesSubplot at 0x276f40e61d0>"
      ]
     },
     "execution_count": 37,
     "metadata": {},
     "output_type": "execute_result"
    },
    {
     "data": {
      "image/png": "[encoded data removed]",
      "text/plain": [
       "<Figure size 432x288 with 1 Axes>"
      ]
     },
     "metadata": {},
     "output_type": "display_data"
    }
   ],
   "source": [
    "df[['Sex','Survived']].groupby('Sex').mean().plot.bar()"
   ]
  },
  {
   "cell_type": "code",
   "execution_count": 38,
   "metadata": {},
   "outputs": [
    {
     "data": {
      "text/plain": [
       "<matplotlib.axes._subplots.AxesSubplot at 0x276f5219da0>"
      ]
     },
     "execution_count": 38,
     "metadata": {},
     "output_type": "execute_result"
    },
    {
     "data": {
      "image/png": "[encoded data removed]",
      "text/plain": [
       "<Figure size 432x288 with 1 Axes>"
      ]
     },
     "metadata": {},
     "output_type": "display_data"
    }
   ],
   "source": [
    "sb.countplot('Pclass',hue='Survived',data=df)"
   ]
  },
  {
   "cell_type": "code",
   "execution_count": 41,
   "metadata": {},
   "outputs": [
    {
     "data": {
      "text/html": [
       "<style  type=\"text/css\" >\n",
       "    #T_07d813b4_b573_11e8_9aff_d8c497852e71row0_col0 {\n",
       "            background-color:  #fff7fb;\n",
       "        }    #T_07d813b4_b573_11e8_9aff_d8c497852e71row0_col1 {\n",
       "            background-color:  #fff7fb;\n",
       "        }    #T_07d813b4_b573_11e8_9aff_d8c497852e71row0_col2 {\n",
       "            background-color:  #f7f0f7;\n",
       "        }    #T_07d813b4_b573_11e8_9aff_d8c497852e71row0_col3 {\n",
       "            background-color:  #fff7fb;\n",
       "        }    #T_07d813b4_b573_11e8_9aff_d8c497852e71row1_col0 {\n",
       "            background-color:  #97b7d7;\n",
       "        }    #T_07d813b4_b573_11e8_9aff_d8c497852e71row1_col1 {\n",
       "            background-color:  #abbfdc;\n",
       "        }    #T_07d813b4_b573_11e8_9aff_d8c497852e71row1_col2 {\n",
       "            background-color:  #f7f0f7;\n",
       "        }    #T_07d813b4_b573_11e8_9aff_d8c497852e71row1_col3 {\n",
       "            background-color:  #dedcec;\n",
       "        }    #T_07d813b4_b573_11e8_9aff_d8c497852e71row2_col0 {\n",
       "            background-color:  #b0c2de;\n",
       "        }    #T_07d813b4_b573_11e8_9aff_d8c497852e71row2_col1 {\n",
       "            background-color:  #7dacd1;\n",
       "        }    #T_07d813b4_b573_11e8_9aff_d8c497852e71row2_col2 {\n",
       "            background-color:  #529bc7;\n",
       "        }    #T_07d813b4_b573_11e8_9aff_d8c497852e71row2_col3 {\n",
       "            background-color:  #7dacd1;\n",
       "        }    #T_07d813b4_b573_11e8_9aff_d8c497852e71row3_col0 {\n",
       "            background-color:  #dcdaeb;\n",
       "        }    #T_07d813b4_b573_11e8_9aff_d8c497852e71row3_col1 {\n",
       "            background-color:  #f6eff7;\n",
       "        }    #T_07d813b4_b573_11e8_9aff_d8c497852e71row3_col2 {\n",
       "            background-color:  #fff7fb;\n",
       "        }    #T_07d813b4_b573_11e8_9aff_d8c497852e71row3_col3 {\n",
       "            background-color:  #faf3f9;\n",
       "        }    #T_07d813b4_b573_11e8_9aff_d8c497852e71row4_col0 {\n",
       "            background-color:  #023858;\n",
       "        }    #T_07d813b4_b573_11e8_9aff_d8c497852e71row4_col1 {\n",
       "            background-color:  #023858;\n",
       "        }    #T_07d813b4_b573_11e8_9aff_d8c497852e71row4_col2 {\n",
       "            background-color:  #023858;\n",
       "        }    #T_07d813b4_b573_11e8_9aff_d8c497852e71row4_col3 {\n",
       "            background-color:  #023858;\n",
       "        }</style>  \n",
       "<table id=\"T_07d813b4_b573_11e8_9aff_d8c497852e71\" > \n",
       "<thead>    <tr> \n",
       "        <th class=\"blank\" ></th> \n",
       "        <th class=\"index_name level0\" >Pclass</th> \n",
       "        <th class=\"col_heading level0 col0\" >1</th> \n",
       "        <th class=\"col_heading level0 col1\" >2</th> \n",
       "        <th class=\"col_heading level0 col2\" >3</th> \n",
       "        <th class=\"col_heading level0 col3\" >All</th> \n",
       "    </tr>    <tr> \n",
       "        <th class=\"index_name level0\" >Sex</th> \n",
       "        <th class=\"index_name level1\" >Survived</th> \n",
       "        <th class=\"blank\" ></th> \n",
       "        <th class=\"blank\" ></th> \n",
       "        <th class=\"blank\" ></th> \n",
       "        <th class=\"blank\" ></th> \n",
       "    </tr></thead> \n",
       "<tbody>    <tr> \n",
       "        <th id=\"T_07d813b4_b573_11e8_9aff_d8c497852e71level0_row0\" class=\"row_heading level0 row0\" rowspan=2>female</th> \n",
       "        <th id=\"T_07d813b4_b573_11e8_9aff_d8c497852e71level1_row0\" class=\"row_heading level1 row0\" >0</th> \n",
       "        <td id=\"T_07d813b4_b573_11e8_9aff_d8c497852e71row0_col0\" class=\"data row0 col0\" >3</td> \n",
       "        <td id=\"T_07d813b4_b573_11e8_9aff_d8c497852e71row0_col1\" class=\"data row0 col1\" >6</td> \n",
       "        <td id=\"T_07d813b4_b573_11e8_9aff_d8c497852e71row0_col2\" class=\"data row0 col2\" >72</td> \n",
       "        <td id=\"T_07d813b4_b573_11e8_9aff_d8c497852e71row0_col3\" class=\"data row0 col3\" >81</td> \n",
       "    </tr>    <tr> \n",
       "        <th id=\"T_07d813b4_b573_11e8_9aff_d8c497852e71level1_row1\" class=\"row_heading level1 row1\" >1</th> \n",
       "        <td id=\"T_07d813b4_b573_11e8_9aff_d8c497852e71row1_col0\" class=\"data row1 col0\" >91</td> \n",
       "        <td id=\"T_07d813b4_b573_11e8_9aff_d8c497852e71row1_col1\" class=\"data row1 col1\" >70</td> \n",
       "        <td id=\"T_07d813b4_b573_11e8_9aff_d8c497852e71row1_col2\" class=\"data row1 col2\" >72</td> \n",
       "        <td id=\"T_07d813b4_b573_11e8_9aff_d8c497852e71row1_col3\" class=\"data row1 col3\" >233</td> \n",
       "    </tr>    <tr> \n",
       "        <th id=\"T_07d813b4_b573_11e8_9aff_d8c497852e71level0_row2\" class=\"row_heading level0 row2\" rowspan=2>male</th> \n",
       "        <th id=\"T_07d813b4_b573_11e8_9aff_d8c497852e71level1_row2\" class=\"row_heading level1 row2\" >0</th> \n",
       "        <td id=\"T_07d813b4_b573_11e8_9aff_d8c497852e71row2_col0\" class=\"data row2 col0\" >77</td> \n",
       "        <td id=\"T_07d813b4_b573_11e8_9aff_d8c497852e71row2_col1\" class=\"data row2 col1\" >91</td> \n",
       "        <td id=\"T_07d813b4_b573_11e8_9aff_d8c497852e71row2_col2\" class=\"data row2 col2\" >300</td> \n",
       "        <td id=\"T_07d813b4_b573_11e8_9aff_d8c497852e71row2_col3\" class=\"data row2 col3\" >468</td> \n",
       "    </tr>    <tr> \n",
       "        <th id=\"T_07d813b4_b573_11e8_9aff_d8c497852e71level1_row3\" class=\"row_heading level1 row3\" >1</th> \n",
       "        <td id=\"T_07d813b4_b573_11e8_9aff_d8c497852e71row3_col0\" class=\"data row3 col0\" >45</td> \n",
       "        <td id=\"T_07d813b4_b573_11e8_9aff_d8c497852e71row3_col1\" class=\"data row3 col1\" >17</td> \n",
       "        <td id=\"T_07d813b4_b573_11e8_9aff_d8c497852e71row3_col2\" class=\"data row3 col2\" >47</td> \n",
       "        <td id=\"T_07d813b4_b573_11e8_9aff_d8c497852e71row3_col3\" class=\"data row3 col3\" >109</td> \n",
       "    </tr>    <tr> \n",
       "        <th id=\"T_07d813b4_b573_11e8_9aff_d8c497852e71level0_row4\" class=\"row_heading level0 row4\" >All</th> \n",
       "        <th id=\"T_07d813b4_b573_11e8_9aff_d8c497852e71level1_row4\" class=\"row_heading level1 row4\" ></th> \n",
       "        <td id=\"T_07d813b4_b573_11e8_9aff_d8c497852e71row4_col0\" class=\"data row4 col0\" >216</td> \n",
       "        <td id=\"T_07d813b4_b573_11e8_9aff_d8c497852e71row4_col1\" class=\"data row4 col1\" >184</td> \n",
       "        <td id=\"T_07d813b4_b573_11e8_9aff_d8c497852e71row4_col2\" class=\"data row4 col2\" >491</td> \n",
       "        <td id=\"T_07d813b4_b573_11e8_9aff_d8c497852e71row4_col3\" class=\"data row4 col3\" >891</td> \n",
       "    </tr></tbody> \n",
       "</table> "
      ],
      "text/plain": [
       "<pandas.io.formats.style.Styler at 0x276f51fdc18>"
      ]
     },
     "execution_count": 41,
     "metadata": {},
     "output_type": "execute_result"
    }
   ],
   "source": [
    "pd.crosstab([df.Sex,df.Survived],df.Pclass,margins=True).style.background_gradient(cmap=\"PuBu\")"
   ]
  },
  {
   "cell_type": "code",
   "execution_count": 43,
   "metadata": {},
   "outputs": [
    {
     "data": {
      "text/plain": [
       "<seaborn.axisgrid.FacetGrid at 0x276f5502d68>"
      ]
     },
     "execution_count": 43,
     "metadata": {},
     "output_type": "execute_result"
    },
    {
     "data": {
      "image/png": "[encoded data removed]",
      "text/plain": [
       "<Figure size 358.5x288 with 1 Axes>"
      ]
     },
     "metadata": {},
     "output_type": "display_data"
    }
   ],
   "source": [
    "sb.factorplot('Pclass','Survived',hue='Sex',data=df)"
   ]
  },
  {
   "cell_type": "code",
   "execution_count": 45,
   "metadata": {},
   "outputs": [
    {
     "data": {
      "text/plain": [
       "<seaborn.axisgrid.FacetGrid at 0x276f5677eb8>"
      ]
     },
     "execution_count": 45,
     "metadata": {},
     "output_type": "execute_result"
    },
    {
     "data": {
      "image/png": "[encoded data removed]",
      "text/plain": [
       "<Figure size 358.5x288 with 1 Axes>"
      ]
     },
     "metadata": {},
     "output_type": "display_data"
    }
   ],
   "source": [
    "sb.factorplot('Pclass','Survived',data=df, hue='Sex',kind='bar')"
   ]
  },
  {
   "cell_type": "code",
   "execution_count": null,
   "metadata": {},
   "outputs": [],
   "source": [
    "df.Age.max()"
   ]
  },
  {
   "cell_type": "code",
   "execution_count": 48,
   "metadata": {},
   "outputs": [
    {
     "name": "stdout",
     "output_type": "stream",
     "text": [
      "Average Age is: 29.69911764705882\n"
     ]
    }
   ],
   "source": [
    "print('Average Age is:',df.Age.mean())"
   ]
  },
  {
   "cell_type": "code",
   "execution_count": 62,
   "metadata": {},
   "outputs": [
    {
     "data": {
      "text/html": [
       "<div>\n",
       "<style scoped>\n",
       "    .dataframe tbody tr th:only-of-type {\n",
       "        vertical-align: middle;\n",
       "    }\n",
       "\n",
       "    .dataframe tbody tr th {\n",
       "        vertical-align: top;\n",
       "    }\n",
       "\n",
       "    .dataframe thead th {\n",
       "        text-align: right;\n",
       "    }\n",
       "</style>\n",
       "<table border=\"1\" class=\"dataframe\">\n",
       "  <thead>\n",
       "    <tr style=\"text-align: right;\">\n",
       "      <th></th>\n",
       "      <th>PassengerId</th>\n",
       "      <th>Survived</th>\n",
       "      <th>Pclass</th>\n",
       "      <th>Name</th>\n",
       "      <th>Sex</th>\n",
       "      <th>Age</th>\n",
       "      <th>SibSp</th>\n",
       "      <th>Parch</th>\n",
       "      <th>Ticket</th>\n",
       "      <th>Fare</th>\n",
       "      <th>Cabin</th>\n",
       "      <th>Embarked</th>\n",
       "    </tr>\n",
       "  </thead>\n",
       "  <tbody>\n",
       "    <tr>\n",
       "      <th>0</th>\n",
       "      <td>1</td>\n",
       "      <td>0</td>\n",
       "      <td>3</td>\n",
       "      <td>Braund, Mr. Owen Harris</td>\n",
       "      <td>male</td>\n",
       "      <td>22.0</td>\n",
       "      <td>1</td>\n",
       "      <td>0</td>\n",
       "      <td>A/5 21171</td>\n",
       "      <td>7.2500</td>\n",
       "      <td>NaN</td>\n",
       "      <td>S</td>\n",
       "    </tr>\n",
       "    <tr>\n",
       "      <th>1</th>\n",
       "      <td>2</td>\n",
       "      <td>1</td>\n",
       "      <td>1</td>\n",
       "      <td>Cumings, Mrs. John Bradley (Florence Briggs Th...</td>\n",
       "      <td>female</td>\n",
       "      <td>38.0</td>\n",
       "      <td>1</td>\n",
       "      <td>0</td>\n",
       "      <td>PC 17599</td>\n",
       "      <td>71.2833</td>\n",
       "      <td>C85</td>\n",
       "      <td>C</td>\n",
       "    </tr>\n",
       "    <tr>\n",
       "      <th>2</th>\n",
       "      <td>3</td>\n",
       "      <td>1</td>\n",
       "      <td>3</td>\n",
       "      <td>Heikkinen, Miss. Laina</td>\n",
       "      <td>female</td>\n",
       "      <td>26.0</td>\n",
       "      <td>0</td>\n",
       "      <td>0</td>\n",
       "      <td>STON/O2. 3101282</td>\n",
       "      <td>7.9250</td>\n",
       "      <td>NaN</td>\n",
       "      <td>S</td>\n",
       "    </tr>\n",
       "    <tr>\n",
       "      <th>3</th>\n",
       "      <td>4</td>\n",
       "      <td>1</td>\n",
       "      <td>1</td>\n",
       "      <td>Futrelle, Mrs. Jacques Heath (Lily May Peel)</td>\n",
       "      <td>female</td>\n",
       "      <td>35.0</td>\n",
       "      <td>1</td>\n",
       "      <td>0</td>\n",
       "      <td>113803</td>\n",
       "      <td>53.1000</td>\n",
       "      <td>C123</td>\n",
       "      <td>S</td>\n",
       "    </tr>\n",
       "    <tr>\n",
       "      <th>4</th>\n",
       "      <td>5</td>\n",
       "      <td>0</td>\n",
       "      <td>3</td>\n",
       "      <td>Allen, Mr. William Henry</td>\n",
       "      <td>male</td>\n",
       "      <td>35.0</td>\n",
       "      <td>0</td>\n",
       "      <td>0</td>\n",
       "      <td>373450</td>\n",
       "      <td>8.0500</td>\n",
       "      <td>NaN</td>\n",
       "      <td>S</td>\n",
       "    </tr>\n",
       "  </tbody>\n",
       "</table>\n",
       "</div>"
      ],
      "text/plain": [
       "   PassengerId  Survived  Pclass  \\\n",
       "0            1         0       3   \n",
       "1            2         1       1   \n",
       "2            3         1       3   \n",
       "3            4         1       1   \n",
       "4            5         0       3   \n",
       "\n",
       "                                                Name     Sex   Age  SibSp  \\\n",
       "0                            Braund, Mr. Owen Harris    male  22.0      1   \n",
       "1  Cumings, Mrs. John Bradley (Florence Briggs Th...  female  38.0      1   \n",
       "2                             Heikkinen, Miss. Laina  female  26.0      0   \n",
       "3       Futrelle, Mrs. Jacques Heath (Lily May Peel)  female  35.0      1   \n",
       "4                           Allen, Mr. William Henry    male  35.0      0   \n",
       "\n",
       "   Parch            Ticket     Fare Cabin Embarked  \n",
       "0      0         A/5 21171   7.2500   NaN        S  \n",
       "1      0          PC 17599  71.2833   C85        C  \n",
       "2      0  STON/O2. 3101282   7.9250   NaN        S  \n",
       "3      0            113803  53.1000  C123        S  \n",
       "4      0            373450   8.0500   NaN        S  "
      ]
     },
     "execution_count": 62,
     "metadata": {},
     "output_type": "execute_result"
    }
   ],
   "source": [
    "df.head()"
   ]
  },
  {
   "cell_type": "code",
   "execution_count": 64,
   "metadata": {},
   "outputs": [
    {
     "data": {
      "text/plain": [
       "<matplotlib.axes._subplots.AxesSubplot at 0x276f58cdcc0>"
      ]
     },
     "execution_count": 64,
     "metadata": {},
     "output_type": "execute_result"
    },
    {
     "data": {
      "image/png": "[encoded data removed]",
      "text/plain": [
       "<Figure size 432x288 with 1 Axes>"
      ]
     },
     "metadata": {},
     "output_type": "display_data"
    }
   ],
   "source": [
    "sb.violinplot('Pclass', 'Age',hue='Survived',data=df,split=True)"
   ]
  },
  {
   "cell_type": "code",
   "execution_count": 67,
   "metadata": {},
   "outputs": [
    {
     "data": {
      "image/png": "[encoded data removed]",
      "text/plain": [
       "<Figure size 1296x576 with 2 Axes>"
      ]
     },
     "metadata": {},
     "output_type": "display_data"
    }
   ],
   "source": [
    "\n",
    "f,ax=plt.subplots(1,2,figsize=(18,8))\n",
    "sb.violinplot('Pclass', 'Age',hue='Survived',data=df,split=True, ax=ax[0])\n",
    "ax[0].set_title('PClass and Age vs Survived')\n",
    "ax[0].set_yticks(range(0,110,10))\n",
    "sb.violinplot(\"Sex\",\"Age\", hue=\"Survived\", data=df,split=True,ax=ax[1])\n",
    "ax[1].set_title('Sex and Age vs Survived')\n",
    "ax[1].set_yticks(range(0,110,10))\n",
    "plt.show()"
   ]
  },
  {
   "cell_type": "code",
   "execution_count": 68,
   "metadata": {},
   "outputs": [
    {
     "data": {
      "text/plain": [
       "PassengerId      0\n",
       "Survived         0\n",
       "Pclass           0\n",
       "Name             0\n",
       "Sex              0\n",
       "Age            177\n",
       "SibSp            0\n",
       "Parch            0\n",
       "Ticket           0\n",
       "Fare             0\n",
       "Cabin          687\n",
       "Embarked         2\n",
       "dtype: int64"
      ]
     },
     "execution_count": 68,
     "metadata": {},
     "output_type": "execute_result"
    }
   ],
   "source": [
    "df.isnull().sum()"
   ]
  },
  {
   "cell_type": "code",
   "execution_count": 70,
   "metadata": {},
   "outputs": [],
   "source": [
    "df['Initial']=0\n",
    "for i in df:\n",
    "    df['Initial']=df.Name.str.extract('([A-Za-z]+)\\.') "
   ]
  },
  {
   "cell_type": "code",
   "execution_count": 76,
   "metadata": {},
   "outputs": [
    {
     "data": {
      "text/html": [
       "<style  type=\"text/css\" >\n",
       "    #T_b682759e_b7c7_11e8_8e02_d8c497852e71row0_col0 {\n",
       "            background-color:  #ffff66;\n",
       "        }    #T_b682759e_b7c7_11e8_8e02_d8c497852e71row0_col1 {\n",
       "            background-color:  #ffff66;\n",
       "        }    #T_b682759e_b7c7_11e8_8e02_d8c497852e71row0_col2 {\n",
       "            background-color:  #008066;\n",
       "        }    #T_b682759e_b7c7_11e8_8e02_d8c497852e71row0_col3 {\n",
       "            background-color:  #ffff66;\n",
       "        }    #T_b682759e_b7c7_11e8_8e02_d8c497852e71row0_col4 {\n",
       "            background-color:  #ffff66;\n",
       "        }    #T_b682759e_b7c7_11e8_8e02_d8c497852e71row0_col5 {\n",
       "            background-color:  #ffff66;\n",
       "        }    #T_b682759e_b7c7_11e8_8e02_d8c497852e71row0_col6 {\n",
       "            background-color:  #008066;\n",
       "        }    #T_b682759e_b7c7_11e8_8e02_d8c497852e71row0_col7 {\n",
       "            background-color:  #ffff66;\n",
       "        }    #T_b682759e_b7c7_11e8_8e02_d8c497852e71row0_col8 {\n",
       "            background-color:  #ffff66;\n",
       "        }    #T_b682759e_b7c7_11e8_8e02_d8c497852e71row0_col9 {\n",
       "            background-color:  #008066;\n",
       "        }    #T_b682759e_b7c7_11e8_8e02_d8c497852e71row0_col10 {\n",
       "            background-color:  #008066;\n",
       "        }    #T_b682759e_b7c7_11e8_8e02_d8c497852e71row0_col11 {\n",
       "            background-color:  #008066;\n",
       "        }    #T_b682759e_b7c7_11e8_8e02_d8c497852e71row0_col12 {\n",
       "            background-color:  #ffff66;\n",
       "        }    #T_b682759e_b7c7_11e8_8e02_d8c497852e71row0_col13 {\n",
       "            background-color:  #008066;\n",
       "        }    #T_b682759e_b7c7_11e8_8e02_d8c497852e71row0_col14 {\n",
       "            background-color:  #008066;\n",
       "        }    #T_b682759e_b7c7_11e8_8e02_d8c497852e71row0_col15 {\n",
       "            background-color:  #ffff66;\n",
       "        }    #T_b682759e_b7c7_11e8_8e02_d8c497852e71row0_col16 {\n",
       "            background-color:  #ffff66;\n",
       "        }    #T_b682759e_b7c7_11e8_8e02_d8c497852e71row1_col0 {\n",
       "            background-color:  #008066;\n",
       "        }    #T_b682759e_b7c7_11e8_8e02_d8c497852e71row1_col1 {\n",
       "            background-color:  #008066;\n",
       "        }    #T_b682759e_b7c7_11e8_8e02_d8c497852e71row1_col2 {\n",
       "            background-color:  #ffff66;\n",
       "        }    #T_b682759e_b7c7_11e8_8e02_d8c497852e71row1_col3 {\n",
       "            background-color:  #008066;\n",
       "        }    #T_b682759e_b7c7_11e8_8e02_d8c497852e71row1_col4 {\n",
       "            background-color:  #008066;\n",
       "        }    #T_b682759e_b7c7_11e8_8e02_d8c497852e71row1_col5 {\n",
       "            background-color:  #008066;\n",
       "        }    #T_b682759e_b7c7_11e8_8e02_d8c497852e71row1_col6 {\n",
       "            background-color:  #ffff66;\n",
       "        }    #T_b682759e_b7c7_11e8_8e02_d8c497852e71row1_col7 {\n",
       "            background-color:  #008066;\n",
       "        }    #T_b682759e_b7c7_11e8_8e02_d8c497852e71row1_col8 {\n",
       "            background-color:  #008066;\n",
       "        }    #T_b682759e_b7c7_11e8_8e02_d8c497852e71row1_col9 {\n",
       "            background-color:  #ffff66;\n",
       "        }    #T_b682759e_b7c7_11e8_8e02_d8c497852e71row1_col10 {\n",
       "            background-color:  #ffff66;\n",
       "        }    #T_b682759e_b7c7_11e8_8e02_d8c497852e71row1_col11 {\n",
       "            background-color:  #ffff66;\n",
       "        }    #T_b682759e_b7c7_11e8_8e02_d8c497852e71row1_col12 {\n",
       "            background-color:  #008066;\n",
       "        }    #T_b682759e_b7c7_11e8_8e02_d8c497852e71row1_col13 {\n",
       "            background-color:  #ffff66;\n",
       "        }    #T_b682759e_b7c7_11e8_8e02_d8c497852e71row1_col14 {\n",
       "            background-color:  #ffff66;\n",
       "        }    #T_b682759e_b7c7_11e8_8e02_d8c497852e71row1_col15 {\n",
       "            background-color:  #008066;\n",
       "        }    #T_b682759e_b7c7_11e8_8e02_d8c497852e71row1_col16 {\n",
       "            background-color:  #008066;\n",
       "        }</style>  \n",
       "<table id=\"T_b682759e_b7c7_11e8_8e02_d8c497852e71\" > \n",
       "<thead>    <tr> \n",
       "        <th class=\"index_name level0\" >Initial</th> \n",
       "        <th class=\"col_heading level0 col0\" >Capt</th> \n",
       "        <th class=\"col_heading level0 col1\" >Col</th> \n",
       "        <th class=\"col_heading level0 col2\" >Countess</th> \n",
       "        <th class=\"col_heading level0 col3\" >Don</th> \n",
       "        <th class=\"col_heading level0 col4\" >Dr</th> \n",
       "        <th class=\"col_heading level0 col5\" >Jonkheer</th> \n",
       "        <th class=\"col_heading level0 col6\" >Lady</th> \n",
       "        <th class=\"col_heading level0 col7\" >Major</th> \n",
       "        <th class=\"col_heading level0 col8\" >Master</th> \n",
       "        <th class=\"col_heading level0 col9\" >Miss</th> \n",
       "        <th class=\"col_heading level0 col10\" >Mlle</th> \n",
       "        <th class=\"col_heading level0 col11\" >Mme</th> \n",
       "        <th class=\"col_heading level0 col12\" >Mr</th> \n",
       "        <th class=\"col_heading level0 col13\" >Mrs</th> \n",
       "        <th class=\"col_heading level0 col14\" >Ms</th> \n",
       "        <th class=\"col_heading level0 col15\" >Rev</th> \n",
       "        <th class=\"col_heading level0 col16\" >Sir</th> \n",
       "    </tr>    <tr> \n",
       "        <th class=\"index_name level0\" >Sex</th> \n",
       "        <th class=\"blank\" ></th> \n",
       "        <th class=\"blank\" ></th> \n",
       "        <th class=\"blank\" ></th> \n",
       "        <th class=\"blank\" ></th> \n",
       "        <th class=\"blank\" ></th> \n",
       "        <th class=\"blank\" ></th> \n",
       "        <th class=\"blank\" ></th> \n",
       "        <th class=\"blank\" ></th> \n",
       "        <th class=\"blank\" ></th> \n",
       "        <th class=\"blank\" ></th> \n",
       "        <th class=\"blank\" ></th> \n",
       "        <th class=\"blank\" ></th> \n",
       "        <th class=\"blank\" ></th> \n",
       "        <th class=\"blank\" ></th> \n",
       "        <th class=\"blank\" ></th> \n",
       "        <th class=\"blank\" ></th> \n",
       "        <th class=\"blank\" ></th> \n",
       "    </tr></thead> \n",
       "<tbody>    <tr> \n",
       "        <th id=\"T_b682759e_b7c7_11e8_8e02_d8c497852e71level0_row0\" class=\"row_heading level0 row0\" >female</th> \n",
       "        <td id=\"T_b682759e_b7c7_11e8_8e02_d8c497852e71row0_col0\" class=\"data row0 col0\" >0</td> \n",
       "        <td id=\"T_b682759e_b7c7_11e8_8e02_d8c497852e71row0_col1\" class=\"data row0 col1\" >0</td> \n",
       "        <td id=\"T_b682759e_b7c7_11e8_8e02_d8c497852e71row0_col2\" class=\"data row0 col2\" >1</td> \n",
       "        <td id=\"T_b682759e_b7c7_11e8_8e02_d8c497852e71row0_col3\" class=\"data row0 col3\" >0</td> \n",
       "        <td id=\"T_b682759e_b7c7_11e8_8e02_d8c497852e71row0_col4\" class=\"data row0 col4\" >1</td> \n",
       "        <td id=\"T_b682759e_b7c7_11e8_8e02_d8c497852e71row0_col5\" class=\"data row0 col5\" >0</td> \n",
       "        <td id=\"T_b682759e_b7c7_11e8_8e02_d8c497852e71row0_col6\" class=\"data row0 col6\" >1</td> \n",
       "        <td id=\"T_b682759e_b7c7_11e8_8e02_d8c497852e71row0_col7\" class=\"data row0 col7\" >0</td> \n",
       "        <td id=\"T_b682759e_b7c7_11e8_8e02_d8c497852e71row0_col8\" class=\"data row0 col8\" >0</td> \n",
       "        <td id=\"T_b682759e_b7c7_11e8_8e02_d8c497852e71row0_col9\" class=\"data row0 col9\" >182</td> \n",
       "        <td id=\"T_b682759e_b7c7_11e8_8e02_d8c497852e71row0_col10\" class=\"data row0 col10\" >2</td> \n",
       "        <td id=\"T_b682759e_b7c7_11e8_8e02_d8c497852e71row0_col11\" class=\"data row0 col11\" >1</td> \n",
       "        <td id=\"T_b682759e_b7c7_11e8_8e02_d8c497852e71row0_col12\" class=\"data row0 col12\" >0</td> \n",
       "        <td id=\"T_b682759e_b7c7_11e8_8e02_d8c497852e71row0_col13\" class=\"data row0 col13\" >125</td> \n",
       "        <td id=\"T_b682759e_b7c7_11e8_8e02_d8c497852e71row0_col14\" class=\"data row0 col14\" >1</td> \n",
       "        <td id=\"T_b682759e_b7c7_11e8_8e02_d8c497852e71row0_col15\" class=\"data row0 col15\" >0</td> \n",
       "        <td id=\"T_b682759e_b7c7_11e8_8e02_d8c497852e71row0_col16\" class=\"data row0 col16\" >0</td> \n",
       "    </tr>    <tr> \n",
       "        <th id=\"T_b682759e_b7c7_11e8_8e02_d8c497852e71level0_row1\" class=\"row_heading level0 row1\" >male</th> \n",
       "        <td id=\"T_b682759e_b7c7_11e8_8e02_d8c497852e71row1_col0\" class=\"data row1 col0\" >1</td> \n",
       "        <td id=\"T_b682759e_b7c7_11e8_8e02_d8c497852e71row1_col1\" class=\"data row1 col1\" >2</td> \n",
       "        <td id=\"T_b682759e_b7c7_11e8_8e02_d8c497852e71row1_col2\" class=\"data row1 col2\" >0</td> \n",
       "        <td id=\"T_b682759e_b7c7_11e8_8e02_d8c497852e71row1_col3\" class=\"data row1 col3\" >1</td> \n",
       "        <td id=\"T_b682759e_b7c7_11e8_8e02_d8c497852e71row1_col4\" class=\"data row1 col4\" >6</td> \n",
       "        <td id=\"T_b682759e_b7c7_11e8_8e02_d8c497852e71row1_col5\" class=\"data row1 col5\" >1</td> \n",
       "        <td id=\"T_b682759e_b7c7_11e8_8e02_d8c497852e71row1_col6\" class=\"data row1 col6\" >0</td> \n",
       "        <td id=\"T_b682759e_b7c7_11e8_8e02_d8c497852e71row1_col7\" class=\"data row1 col7\" >2</td> \n",
       "        <td id=\"T_b682759e_b7c7_11e8_8e02_d8c497852e71row1_col8\" class=\"data row1 col8\" >40</td> \n",
       "        <td id=\"T_b682759e_b7c7_11e8_8e02_d8c497852e71row1_col9\" class=\"data row1 col9\" >0</td> \n",
       "        <td id=\"T_b682759e_b7c7_11e8_8e02_d8c497852e71row1_col10\" class=\"data row1 col10\" >0</td> \n",
       "        <td id=\"T_b682759e_b7c7_11e8_8e02_d8c497852e71row1_col11\" class=\"data row1 col11\" >0</td> \n",
       "        <td id=\"T_b682759e_b7c7_11e8_8e02_d8c497852e71row1_col12\" class=\"data row1 col12\" >517</td> \n",
       "        <td id=\"T_b682759e_b7c7_11e8_8e02_d8c497852e71row1_col13\" class=\"data row1 col13\" >0</td> \n",
       "        <td id=\"T_b682759e_b7c7_11e8_8e02_d8c497852e71row1_col14\" class=\"data row1 col14\" >0</td> \n",
       "        <td id=\"T_b682759e_b7c7_11e8_8e02_d8c497852e71row1_col15\" class=\"data row1 col15\" >6</td> \n",
       "        <td id=\"T_b682759e_b7c7_11e8_8e02_d8c497852e71row1_col16\" class=\"data row1 col16\" >1</td> \n",
       "    </tr></tbody> \n",
       "</table> "
      ],
      "text/plain": [
       "<pandas.io.formats.style.Styler at 0x276f6be2160>"
      ]
     },
     "execution_count": 76,
     "metadata": {},
     "output_type": "execute_result"
    }
   ],
   "source": [
    "pd.crosstab(df.Initial,df.Sex).T.style.background_gradient(cmap='summer_r')"
   ]
  },
  {
   "cell_type": "code",
   "execution_count": 77,
   "metadata": {},
   "outputs": [],
   "source": [
    "df['Initial'].replace(['Mlle','Mme','Ms','Dr','Major','Lady','Countess',\n",
    "                               'Jonkheer','Col','Rev','Capt','Sir','Don'],['Miss',\n",
    "                                'Miss','Miss','Mr','Mr','Mrs','Mrs','Other','Other','Other','Mr','Mr','Mr'],inplace=True)"
   ]
  },
  {
   "cell_type": "code",
   "execution_count": 78,
   "metadata": {},
   "outputs": [
    {
     "data": {
      "text/plain": [
       "Initial\n",
       "Master     4.574167\n",
       "Miss      21.860000\n",
       "Mr        32.739609\n",
       "Mrs       35.981818\n",
       "Other     45.888889\n",
       "Name: Age, dtype: float64"
      ]
     },
     "execution_count": 78,
     "metadata": {},
     "output_type": "execute_result"
    }
   ],
   "source": [
    "df.groupby('Initial').Age.mean()"
   ]
  },
  {
   "cell_type": "code",
   "execution_count": 83,
   "metadata": {},
   "outputs": [],
   "source": [
    "df.loc[(df.Age.isnull())&(df.Initial==\"Master\"),'Age']=5\n",
    "df.loc[(df.Age.isnull())&(df.Initial==\"Miss\"), 'Age']=22\n",
    "df.loc[(df.Age.isnull()) & (df.Initial=='Mr'),'Age']=33\n",
    "df.loc[(df.Age.isnull()) & (df.Initial=='Mrs'),'Age']=36\n",
    "\n",
    "df.loc[(df.Age.isnull()) & (df.Initial=='Other'),'Age']=46"
   ]
  },
  {
   "cell_type": "code",
   "execution_count": 84,
   "metadata": {},
   "outputs": [
    {
     "data": {
      "text/plain": [
       "0"
      ]
     },
     "execution_count": 84,
     "metadata": {},
     "output_type": "execute_result"
    }
   ],
   "source": [
    "df.Age.isnull().sum()f"
   ]
  },
  {
   "cell_type": "code",
   "execution_count": 109,
   "metadata": {},
   "outputs": [
    {
     "data": {
      "image/png": "[encoded data removed]",
      "text/plain": [
       "<Figure size 1440x720 with 2 Axes>"
      ]
     },
     "metadata": {},
     "output_type": "display_data"
    }
   ],
   "source": [
    "f,ax=plt.subplots(1,2,figsize=(20,10))\n",
    "df[df.Survived==0].Age.plot.hist(ax=ax[0],bins=20,color='red')\n",
    "ax[0].set_title('Survived = 0')\n",
    "x1=list(range(0,85,5))\n",
    "ax[0].set_xticks(x1)\n",
    "df[df.Survived==1].Age.plot.hist(ax=ax[1],bins=20,color='blue')\n",
    "ax[1].set_title('Survived = 1')\n",
    "x2=list(range(0,85,5))\n",
    "ax[1].set_xticks(x2)\n",
    "plt.show()\n"
   ]
  },
  {
   "cell_type": "code",
   "execution_count": 111,
   "metadata": {},
   "outputs": [
    {
     "data": {
      "text/plain": [
       "<seaborn.axisgrid.FacetGrid at 0x276f7afe240>"
      ]
     },
     "execution_count": 111,
     "metadata": {},
     "output_type": "execute_result"
    },
    {
     "data": {
      "image/png": "[encoded data removed]",
      "text/plain": [
       "<Figure size 1440x288 with 5 Axes>"
      ]
     },
     "metadata": {},
     "output_type": "display_data"
    }
   ],
   "source": [
    "sb.factorplot('Pclass','Survived',col='Initial',data=df)"
   ]
  },
  {
   "cell_type": "code",
   "execution_count": 101,
   "metadata": {},
   "outputs": [],
   "source": [
    "%matplotlib inline"
   ]
  },
  {
   "cell_type": "code",
   "execution_count": 113,
   "metadata": {},
   "outputs": [
    {
     "data": {
      "text/html": [
       "<div>\n",
       "<style scoped>\n",
       "    .dataframe tbody tr th:only-of-type {\n",
       "        vertical-align: middle;\n",
       "    }\n",
       "\n",
       "    .dataframe tbody tr th {\n",
       "        vertical-align: top;\n",
       "    }\n",
       "\n",
       "    .dataframe thead th {\n",
       "        text-align: right;\n",
       "    }\n",
       "</style>\n",
       "<table border=\"1\" class=\"dataframe\">\n",
       "  <thead>\n",
       "    <tr style=\"text-align: right;\">\n",
       "      <th>Survived</th>\n",
       "      <th>0</th>\n",
       "      <th>1</th>\n",
       "    </tr>\n",
       "    <tr>\n",
       "      <th>SibSp</th>\n",
       "      <th></th>\n",
       "      <th></th>\n",
       "    </tr>\n",
       "  </thead>\n",
       "  <tbody>\n",
       "    <tr>\n",
       "      <th>0</th>\n",
       "      <td>398</td>\n",
       "      <td>210</td>\n",
       "    </tr>\n",
       "    <tr>\n",
       "      <th>1</th>\n",
       "      <td>97</td>\n",
       "      <td>112</td>\n",
       "    </tr>\n",
       "    <tr>\n",
       "      <th>2</th>\n",
       "      <td>15</td>\n",
       "      <td>13</td>\n",
       "    </tr>\n",
       "    <tr>\n",
       "      <th>3</th>\n",
       "      <td>12</td>\n",
       "      <td>4</td>\n",
       "    </tr>\n",
       "    <tr>\n",
       "      <th>4</th>\n",
       "      <td>15</td>\n",
       "      <td>3</td>\n",
       "    </tr>\n",
       "    <tr>\n",
       "      <th>5</th>\n",
       "      <td>5</td>\n",
       "      <td>0</td>\n",
       "    </tr>\n",
       "    <tr>\n",
       "      <th>8</th>\n",
       "      <td>7</td>\n",
       "      <td>0</td>\n",
       "    </tr>\n",
       "  </tbody>\n",
       "</table>\n",
       "</div>"
      ],
      "text/plain": [
       "Survived    0    1\n",
       "SibSp             \n",
       "0         398  210\n",
       "1          97  112\n",
       "2          15   13\n",
       "3          12    4\n",
       "4          15    3\n",
       "5           5    0\n",
       "8           7    0"
      ]
     },
     "execution_count": 113,
     "metadata": {},
     "output_type": "execute_result"
    }
   ],
   "source": [
    "pd.crosstab(df.SibSp, df.Survived)"
   ]
  },
  {
   "cell_type": "code",
   "execution_count": 116,
   "metadata": {},
   "outputs": [
    {
     "data": {
      "text/plain": [
       "<matplotlib.axes._subplots.AxesSubplot at 0x276f6ec0048>"
      ]
     },
     "execution_count": 116,
     "metadata": {},
     "output_type": "execute_result"
    },
    {
     "data": {
      "image/png": "[encoded data removed]",
      "text/plain": [
       "<Figure size 432x288 with 1 Axes>"
      ]
     },
     "metadata": {},
     "output_type": "display_data"
    }
   ],
   "source": [
    "sb.barplot(df.SibSp,df.Survived)"
   ]
  },
  {
   "cell_type": "code",
   "execution_count": 118,
   "metadata": {},
   "outputs": [
    {
     "data": {
      "text/plain": [
       "<seaborn.axisgrid.FacetGrid at 0x276f6f250f0>"
      ]
     },
     "execution_count": 118,
     "metadata": {},
     "output_type": "execute_result"
    },
    {
     "data": {
      "image/png": "[encoded data removed]",
      "text/plain": [
       "<Figure size 288x288 with 1 Axes>"
      ]
     },
     "metadata": {},
     "output_type": "display_data"
    }
   ],
   "source": [
    "sb.factorplot('SibSp','Survived', data=df)"
   ]
  },
  {
   "cell_type": "code",
   "execution_count": 122,
   "metadata": {},
   "outputs": [
    {
     "data": {
      "text/html": [
       "<div>\n",
       "<style scoped>\n",
       "    .dataframe tbody tr th:only-of-type {\n",
       "        vertical-align: middle;\n",
       "    }\n",
       "\n",
       "    .dataframe tbody tr th {\n",
       "        vertical-align: top;\n",
       "    }\n",
       "\n",
       "    .dataframe thead th {\n",
       "        text-align: right;\n",
       "    }\n",
       "</style>\n",
       "<table border=\"1\" class=\"dataframe\">\n",
       "  <thead>\n",
       "    <tr style=\"text-align: right;\">\n",
       "      <th>Pclass</th>\n",
       "      <th>1</th>\n",
       "      <th>2</th>\n",
       "      <th>3</th>\n",
       "    </tr>\n",
       "    <tr>\n",
       "      <th>SibSp</th>\n",
       "      <th></th>\n",
       "      <th></th>\n",
       "      <th></th>\n",
       "    </tr>\n",
       "  </thead>\n",
       "  <tbody>\n",
       "    <tr>\n",
       "      <th>0</th>\n",
       "      <td>137</td>\n",
       "      <td>120</td>\n",
       "      <td>351</td>\n",
       "    </tr>\n",
       "    <tr>\n",
       "      <th>1</th>\n",
       "      <td>71</td>\n",
       "      <td>55</td>\n",
       "      <td>83</td>\n",
       "    </tr>\n",
       "    <tr>\n",
       "      <th>2</th>\n",
       "      <td>5</td>\n",
       "      <td>8</td>\n",
       "      <td>15</td>\n",
       "    </tr>\n",
       "    <tr>\n",
       "      <th>3</th>\n",
       "      <td>3</td>\n",
       "      <td>1</td>\n",
       "      <td>12</td>\n",
       "    </tr>\n",
       "    <tr>\n",
       "      <th>4</th>\n",
       "      <td>0</td>\n",
       "      <td>0</td>\n",
       "      <td>18</td>\n",
       "    </tr>\n",
       "    <tr>\n",
       "      <th>5</th>\n",
       "      <td>0</td>\n",
       "      <td>0</td>\n",
       "      <td>5</td>\n",
       "    </tr>\n",
       "    <tr>\n",
       "      <th>8</th>\n",
       "      <td>0</td>\n",
       "      <td>0</td>\n",
       "      <td>7</td>\n",
       "    </tr>\n",
       "  </tbody>\n",
       "</table>\n",
       "</div>"
      ],
      "text/plain": [
       "Pclass    1    2    3\n",
       "SibSp                \n",
       "0       137  120  351\n",
       "1        71   55   83\n",
       "2         5    8   15\n",
       "3         3    1   12\n",
       "4         0    0   18\n",
       "5         0    0    5\n",
       "8         0    0    7"
      ]
     },
     "execution_count": 122,
     "metadata": {},
     "output_type": "execute_result"
    }
   ],
   "source": [
    "pd.crosstab(df.SibSp, df.Pclass)"
   ]
  },
  {
   "cell_type": "code",
   "execution_count": null,
   "metadata": {},
   "outputs": [],
   "source": []
  }
 ],
 "metadata": {
  "kernelspec": {
   "display_name": "Python 3",
   "language": "python",
   "name": "python3"
  },
  "language_info": {
   "codemirror_mode": {
    "name": "ipython",
    "version": 3
   },
   "file_extension": ".py",
   "mimetype": "text/x-python",
   "name": "python",
   "nbconvert_exporter": "python",
   "pygments_lexer": "ipython3",
   "version": "3.6.5"
  }
 },
 "nbformat": 4,
 "nbformat_minor": 2
}
